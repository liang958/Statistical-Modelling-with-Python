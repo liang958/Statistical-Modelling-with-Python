{
 "cells": [
  {
   "cell_type": "markdown",
   "metadata": {},
   "source": [
    "Build a regression model."
   ]
  },
  {
   "cell_type": "code",
   "execution_count": 17,
   "metadata": {},
   "outputs": [],
   "source": [
    "import pandas as pd\n",
    "import numpy as np\n",
    "import statsmodels.api as sm\n",
    "\n",
    "bike_df = pd.read_csv(\"merged_total.csv\")\n",
    "\n",
    "y = bike_df['free_bikes']\n",
    "X = bike_df_new =  bike_df.drop(['free_bikes', 'name', 'is_closed', 'location.address1', \n",
    "    'location.zip_code', 'latitude', 'longitude', 'rating'], axis=1)\n",
    "\n",
    "X = sm.add_constant(X) #adds a column of 1's so the model will contain an intercept\n",
    "\n",
    "model = sm.OLS(y, X)\n",
    "results = model.fit()\n",
    "\n"
   ]
  },
  {
   "cell_type": "code",
   "execution_count": null,
   "metadata": {},
   "outputs": [],
   "source": []
  },
  {
   "cell_type": "markdown",
   "metadata": {},
   "source": [
    "Provide model output and an interpretation of the results. "
   ]
  },
  {
   "cell_type": "code",
   "execution_count": 18,
   "metadata": {},
   "outputs": [
    {
     "name": "stdout",
     "output_type": "stream",
     "text": [
      "                            OLS Regression Results                            \n",
      "==============================================================================\n",
      "Dep. Variable:             free_bikes   R-squared:                       0.101\n",
      "Model:                            OLS   Adj. R-squared:                  0.098\n",
      "Method:                 Least Squares   F-statistic:                     32.73\n",
      "Date:                Sat, 29 Jul 2023   Prob (F-statistic):           1.00e-31\n",
      "Time:                        09:17:01   Log-Likelihood:                -4089.7\n",
      "No. Observations:                1469   AIC:                             8191.\n",
      "Df Residuals:                    1463   BIC:                             8223.\n",
      "Df Model:                           5                                         \n",
      "Covariance Type:            nonrobust                                         \n",
      "=========================================================================================\n",
      "                            coef    std err          t      P>|t|      [0.025      0.975]\n",
      "-----------------------------------------------------------------------------------------\n",
      "const                 -7126.4584    883.032     -8.070      0.000   -8858.603   -5394.314\n",
      "bikestation               0.0304      0.005      6.255      0.000       0.021       0.040\n",
      "distance                 -0.0020      0.000     -4.834      0.000      -0.003      -0.001\n",
      "review_count             -0.0049      0.002     -2.264      0.024      -0.009      -0.001\n",
      "coordinates.latitude     83.9769      8.622      9.740      0.000      67.065     100.889\n",
      "coordinates.longitude   -44.9673      7.865     -5.718      0.000     -60.394     -29.540\n",
      "==============================================================================\n",
      "Omnibus:                       44.273   Durbin-Watson:                   0.125\n",
      "Prob(Omnibus):                  0.000   Jarque-Bera (JB):               41.632\n",
      "Skew:                           0.366   Prob(JB):                     9.11e-10\n",
      "Kurtosis:                       2.619   Cond. No.                     4.41e+06\n",
      "==============================================================================\n",
      "\n",
      "Notes:\n",
      "[1] Standard Errors assume that the covariance matrix of the errors is correctly specified.\n",
      "[2] The condition number is large, 4.41e+06. This might indicate that there are\n",
      "strong multicollinearity or other numerical problems.\n"
     ]
    }
   ],
   "source": [
    "print(results.summary())"
   ]
  },
  {
   "cell_type": "markdown",
   "metadata": {},
   "source": [
    "From the modelling results, p-value < 0.05 for all varialbes. \n",
    "The coefficent values also shows that restaurant's longitude \n",
    "has strong positive impact on the number of bikes, \n",
    "its longitude has negative impact on the number of bikes. \n",
    "But Adj. R-squared is 0.098 , it shows that \n",
    "this multivariate model only explains 9.8% of the variations in the data. \n",
    "This is because data doesn’t meet the model requirements. "
   ]
  },
  {
   "cell_type": "markdown",
   "metadata": {},
   "source": [
    "# Stretch"
   ]
  },
  {
   "cell_type": "markdown",
   "metadata": {},
   "source": [
    "How can you turn the regression model into a classification model?"
   ]
  },
  {
   "cell_type": "markdown",
   "metadata": {},
   "source": [
    "Setting the number of bikes into the category: 0, 1.  0 means the station doesn't have free bikes, 1 means the station has free bikes."
   ]
  }
 ],
 "metadata": {
  "kernelspec": {
   "display_name": "Python 3 (ipykernel)",
   "language": "python",
   "name": "python3"
  },
  "language_info": {
   "codemirror_mode": {
    "name": "ipython",
    "version": 3
   },
   "file_extension": ".py",
   "mimetype": "text/x-python",
   "name": "python",
   "nbconvert_exporter": "python",
   "pygments_lexer": "ipython3",
   "version": "3.11.3"
  }
 },
 "nbformat": 4,
 "nbformat_minor": 4
}
